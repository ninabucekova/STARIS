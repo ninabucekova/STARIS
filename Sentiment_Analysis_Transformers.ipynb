{
 "cells": [
  {
   "cell_type": "markdown",
   "id": "57cbf630",
   "metadata": {},
   "source": [
    "# Sentiment Analysis with transformers\n",
    "\n",
    "Here we perform sentiment analysis on our essays dataset using transformer models available on Hugging Face."
   ]
  },
  {
   "cell_type": "code",
   "execution_count": 1,
   "id": "0b292764",
   "metadata": {},
   "outputs": [],
   "source": [
    "import numpy as np\n",
    "import pandas as pd\n",
    "\n",
    "import torch\n",
    "import transformers\n",
    "import torch.nn.functional as F\n",
    "\n",
    "from transformers import pipeline"
   ]
  },
  {
   "cell_type": "code",
   "execution_count": 46,
   "id": "14f22943",
   "metadata": {},
   "outputs": [
    {
     "data": {
      "text/html": [
       "<div>\n",
       "<style scoped>\n",
       "    .dataframe tbody tr th:only-of-type {\n",
       "        vertical-align: middle;\n",
       "    }\n",
       "\n",
       "    .dataframe tbody tr th {\n",
       "        vertical-align: top;\n",
       "    }\n",
       "\n",
       "    .dataframe thead th {\n",
       "        text-align: right;\n",
       "    }\n",
       "</style>\n",
       "<table border=\"1\" class=\"dataframe\">\n",
       "  <thead>\n",
       "    <tr style=\"text-align: right;\">\n",
       "      <th></th>\n",
       "      <th>ID</th>\n",
       "      <th>Essay Text</th>\n",
       "      <th>Preprocessed Text</th>\n",
       "    </tr>\n",
       "  </thead>\n",
       "  <tbody>\n",
       "    <tr>\n",
       "      <th>0</th>\n",
       "      <td>N28280Y</td>\n",
       "      <td>I am happily married, we are grand-parents. Ou...</td>\n",
       "      <td>['happily', 'married', 'grandparent', 'two', '...</td>\n",
       "    </tr>\n",
       "    <tr>\n",
       "      <th>1</th>\n",
       "      <td>N13960Q</td>\n",
       "      <td>I am retired, not living in London, probably i...</td>\n",
       "      <td>['retired', 'living', 'london', 'probably', 'n...</td>\n",
       "    </tr>\n",
       "    <tr>\n",
       "      <th>2</th>\n",
       "      <td>N23786Z</td>\n",
       "      <td>I imagine I'll still be teaching french at Pri...</td>\n",
       "      <td>['imagine', 'ill', 'still', 'teaching', 'frenc...</td>\n",
       "    </tr>\n",
       "    <tr>\n",
       "      <th>3</th>\n",
       "      <td>N17606R</td>\n",
       "      <td>I am retired from work. I enjoy leisurely time...</td>\n",
       "      <td>['retired', 'work', 'enjoy', 'leisurely', 'tim...</td>\n",
       "    </tr>\n",
       "    <tr>\n",
       "      <th>4</th>\n",
       "      <td>N19466F</td>\n",
       "      <td>Retired and moved further away from London, Su...</td>\n",
       "      <td>['retired', 'moved', 'away', 'london', 'sussex...</td>\n",
       "    </tr>\n",
       "    <tr>\n",
       "      <th>...</th>\n",
       "      <td>...</td>\n",
       "      <td>...</td>\n",
       "      <td>...</td>\n",
       "    </tr>\n",
       "    <tr>\n",
       "      <th>14747</th>\n",
       "      <td>N11272P</td>\n",
       "      <td>STILL LIVING WITH ALL THE FAMILY MEMBERS AROUN...</td>\n",
       "      <td>['still', 'living', 'family', 'member', 'aroun...</td>\n",
       "    </tr>\n",
       "    <tr>\n",
       "      <th>14748</th>\n",
       "      <td>N11272P</td>\n",
       "      <td>My interests are my husband and children. They...</td>\n",
       "      <td>['interest', 'husband', 'child', 'always', 'pr...</td>\n",
       "    </tr>\n",
       "    <tr>\n",
       "      <th>14749</th>\n",
       "      <td>N11272P</td>\n",
       "      <td>My family &amp; friends are very important to me, ...</td>\n",
       "      <td>['family', 'friend', 'important', 'hopefuly', ...</td>\n",
       "    </tr>\n",
       "    <tr>\n",
       "      <th>14750</th>\n",
       "      <td>N11272P</td>\n",
       "      <td>When I do reach 60yrs I hope my health is stil...</td>\n",
       "      <td>['reach', '60yrs', 'hope', 'health', 'still', ...</td>\n",
       "    </tr>\n",
       "    <tr>\n",
       "      <th>14751</th>\n",
       "      <td>N11272P</td>\n",
       "      <td>Well I am still alive. My job is OK, I am mort...</td>\n",
       "      <td>['well', 'still', 'alive', 'job', 'ok', 'mortg...</td>\n",
       "    </tr>\n",
       "  </tbody>\n",
       "</table>\n",
       "<p>14752 rows × 3 columns</p>\n",
       "</div>"
      ],
      "text/plain": [
       "            ID                                         Essay Text  \\\n",
       "0      N28280Y  I am happily married, we are grand-parents. Ou...   \n",
       "1      N13960Q  I am retired, not living in London, probably i...   \n",
       "2      N23786Z  I imagine I'll still be teaching french at Pri...   \n",
       "3      N17606R  I am retired from work. I enjoy leisurely time...   \n",
       "4      N19466F  Retired and moved further away from London, Su...   \n",
       "...        ...                                                ...   \n",
       "14747  N11272P  STILL LIVING WITH ALL THE FAMILY MEMBERS AROUN...   \n",
       "14748  N11272P  My interests are my husband and children. They...   \n",
       "14749  N11272P  My family & friends are very important to me, ...   \n",
       "14750  N11272P  When I do reach 60yrs I hope my health is stil...   \n",
       "14751  N11272P  Well I am still alive. My job is OK, I am mort...   \n",
       "\n",
       "                                       Preprocessed Text  \n",
       "0      ['happily', 'married', 'grandparent', 'two', '...  \n",
       "1      ['retired', 'living', 'london', 'probably', 'n...  \n",
       "2      ['imagine', 'ill', 'still', 'teaching', 'frenc...  \n",
       "3      ['retired', 'work', 'enjoy', 'leisurely', 'tim...  \n",
       "4      ['retired', 'moved', 'away', 'london', 'sussex...  \n",
       "...                                                  ...  \n",
       "14747  ['still', 'living', 'family', 'member', 'aroun...  \n",
       "14748  ['interest', 'husband', 'child', 'always', 'pr...  \n",
       "14749  ['family', 'friend', 'important', 'hopefuly', ...  \n",
       "14750  ['reach', '60yrs', 'hope', 'health', 'still', ...  \n",
       "14751  ['well', 'still', 'alive', 'job', 'ok', 'mortg...  \n",
       "\n",
       "[14752 rows x 3 columns]"
      ]
     },
     "execution_count": 46,
     "metadata": {},
     "output_type": "execute_result"
    }
   ],
   "source": [
    "# Read data\n",
    "essays = pd.read_csv('essays.csv')\n",
    "\n",
    "# Create a column for essay lenght\n",
    "def calculate_length(wordlist):\n",
    "    return len(wordlist)\n",
    "\n",
    "essays['Essay Length'] = essays['Preprocessed Text'].apply(calculate_length)\n",
    "essays.head()\n",
    "\n",
    "# Is there an outlier or a too large value in the problematic batch\n",
    "max10 = np.max(essays['Essay Length'][1001:1500])\n",
    "\n",
    "# 1001 to 1500 too large sequence of words?\n",
    "sum00 = np.sum(essays['Essay Length'][:500])\n",
    "sum05 = np.sum(essays['Essay Length'][501:1000])\n",
    "sum10 = np.sum(essays['Essay Length'][1001:1500])\n",
    "# there seems to be no problem with sequence size in batch10\n",
    "\n",
    "# Drop length column\n",
    "essays.drop('Essay Length', axis=1)"
   ]
  },
  {
   "cell_type": "code",
   "execution_count": 3,
   "id": "c4a46b72",
   "metadata": {},
   "outputs": [
    {
     "name": "stderr",
     "output_type": "stream",
     "text": [
      "Xformers is not installed correctly. If you want to use memory_efficient_attention to accelerate training use the following command to install Xformers\n",
      "pip install xformers.\n"
     ]
    },
    {
     "name": "stdout",
     "output_type": "stream",
     "text": [
      "Sentiment: POSITIVE\n",
      "Score: 0.9988269209861755\n",
      "Sentiment: POSITIVE\n",
      "Score: 0.9900906085968018\n"
     ]
    }
   ],
   "source": [
    "# Instantiate a sentiment analysis pipeline\n",
    "sentiment_classifier = pipeline('sentiment-analysis', \n",
    "                                model=\"siebert/sentiment-roberta-large-english\")\n",
    "\n",
    "# Sample sentences to try the model out\n",
    "res = sentiment_classifier(['I like it.', \n",
    "                           'We hope you do not hate it.'])\n",
    "\n",
    "for re in res:\n",
    "    print(f\"Sentiment: {re['label']}\")\n",
    "    print(f\"Score: {re['score']}\")"
   ]
  },
  {
   "cell_type": "code",
   "execution_count": 47,
   "id": "ff9a454e",
   "metadata": {},
   "outputs": [],
   "source": [
    "# Perform sentiment analysis on the 'text_column' column (in batches of 500 observations)\n",
    "results = sentiment_classifier(essays['Preprocessed Text'][:500].tolist())\n",
    "\n",
    "# indexing with pandas: [a:b], a/excluding, b/including"
   ]
  },
  {
   "cell_type": "code",
   "execution_count": 48,
   "id": "7a2552f0",
   "metadata": {},
   "outputs": [],
   "source": [
    "results05 = sentiment_classifier(essays['Preprocessed Text'][500:1000].tolist())"
   ]
  },
  {
   "cell_type": "code",
   "execution_count": null,
   "id": "5060f7ab",
   "metadata": {},
   "outputs": [],
   "source": [
    "# Perform sentiment analysis and print a sample of results\n",
    "samples = sentiment_classifier(essays['Preprocessed Text'][11:20].tolist())\n",
    "\n",
    "# Print first few observations\n",
    "for sample in samples:\n",
    "    print(f\"Sentiment: {sample['label']}\")\n",
    "    print(f\"Score: {sample['score']}\")\n",
    "    print()\n",
    "    \n",
    "len(samples)"
   ]
  },
  {
   "cell_type": "markdown",
   "id": "3e63b5a4",
   "metadata": {},
   "source": [
    "### Add the sentiment analysis results into our essays dataset"
   ]
  },
  {
   "cell_type": "code",
   "execution_count": 49,
   "id": "fd53ff1e",
   "metadata": {},
   "outputs": [],
   "source": [
    "# Initiliaze empty columns for sentiment analysis results\n",
    "essays['Sentiment'] = ''\n",
    "essays['Score'] = ''"
   ]
  },
  {
   "cell_type": "code",
   "execution_count": 50,
   "id": "8b82f3ad",
   "metadata": {},
   "outputs": [],
   "source": [
    "# Add the sentiment analysis results into our dataset (batch 00)\n",
    "sentiments = [result['label'] for result in results]\n",
    "scores = [result['score'] for result in results]\n",
    "\n",
    "# Fill in the results columns with sentiment and confidence score\n",
    "essays.loc[:499, 'Sentiment'] = sentiments\n",
    "essays.loc[:499, 'Score'] = scores"
   ]
  },
  {
   "cell_type": "code",
   "execution_count": 52,
   "id": "40cb0157",
   "metadata": {},
   "outputs": [],
   "source": [
    "# Add the sentiment analysis results into our dataset (batch 05)\n",
    "sentiments05 = [result['label'] for result in results05]\n",
    "scores05 = [result['score'] for result in results05]\n",
    "\n",
    "# Create columns with sentiment and confidence score\n",
    "essays.loc[500:998, 'Sentiment'] = sentiments05[:499]\n",
    "essays.loc[500:998, 'Score'] = scores05[:499]"
   ]
  },
  {
   "cell_type": "code",
   "execution_count": 53,
   "id": "d225d11c",
   "metadata": {},
   "outputs": [
    {
     "data": {
      "text/plain": [
       "Sentiment\n",
       "POSITIVE    0.915916\n",
       "NEGATIVE    0.084084\n",
       "Name: proportion, dtype: float64"
      ]
     },
     "execution_count": 53,
     "metadata": {},
     "output_type": "execute_result"
    }
   ],
   "source": [
    "# Frequencies of positive and negative sentiment\n",
    "essays['Sentiment'][:999].value_counts(normalize=True)"
   ]
  },
  {
   "cell_type": "code",
   "execution_count": null,
   "id": "41082e50",
   "metadata": {},
   "outputs": [],
   "source": [
    "# Add the sentiment analysis results into our dataset (batch 10)\n",
    "sentiments10 = [result['label'] for result in results10]\n",
    "scores10 = [result['score'] for result in results10]\n",
    "\n",
    "# Create columns with sentiment and confidence score\n",
    "essays.loc['Sentiment'][1001:1500] = sentiments10\n",
    "essays.loc['Score'][1001:1500] = scores10"
   ]
  },
  {
   "cell_type": "code",
   "execution_count": 54,
   "id": "23df2507",
   "metadata": {},
   "outputs": [],
   "source": [
    "# Save updated sentiment analysis results\n",
    "essays_sentiment = essays.to_csv('essays_sentiment.csv', index=False)"
   ]
  },
  {
   "cell_type": "code",
   "execution_count": null,
   "id": "f29d1e01",
   "metadata": {},
   "outputs": [],
   "source": []
  }
 ],
 "metadata": {
  "kernelspec": {
   "display_name": "Python 3 (ipykernel)",
   "language": "python",
   "name": "python3"
  },
  "language_info": {
   "codemirror_mode": {
    "name": "ipython",
    "version": 3
   },
   "file_extension": ".py",
   "mimetype": "text/x-python",
   "name": "python",
   "nbconvert_exporter": "python",
   "pygments_lexer": "ipython3",
   "version": "3.11.3"
  }
 },
 "nbformat": 4,
 "nbformat_minor": 5
}
