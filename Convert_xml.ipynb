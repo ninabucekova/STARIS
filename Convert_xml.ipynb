{
 "cells": [
  {
   "cell_type": "markdown",
   "id": "bef51a20",
   "metadata": {},
   "source": [
    "# Convert xml files into txt"
   ]
  },
  {
   "cell_type": "code",
   "execution_count": 1,
   "id": "231c3b59",
   "metadata": {},
   "outputs": [],
   "source": [
    "import os\n",
    "from xml.etree import ElementTree as ET"
   ]
  },
  {
   "cell_type": "code",
   "execution_count": 5,
   "id": "fa45eb50",
   "metadata": {},
   "outputs": [],
   "source": [
    "# Specify the directory path where your XML files are located\n",
    "directory = 'xml'\n",
    "\n",
    "# Specify the output directory path where you want to save the TXT files\n",
    "output_directory = 'txt'\n",
    "\n",
    "# Regular expression pattern for extracting the identification number\n",
    "pattern = r'(\\w+)$'"
   ]
  },
  {
   "cell_type": "code",
   "execution_count": 6,
   "id": "68b0fdff",
   "metadata": {},
   "outputs": [],
   "source": [
    "# Iterate over each XML file in the directory\n",
    "for filename in os.listdir(directory):\n",
    "    if filename.endswith('.xml'):\n",
    "        # Create the file paths for input and output\n",
    "        input_path = os.path.join(directory, filename)\n",
    "        output_path = os.path.join(output_directory, filename.replace('.xml', '.txt'))\n",
    "\n",
    "        # Parse the XML file\n",
    "        tree = ET.parse(input_path)\n",
    "        root = tree.getroot()\n",
    "\n",
    "        # Extract the text content\n",
    "        text_content = ' '.join([element.text for element in root.iter() if element.text])\n",
    "\n",
    "        # Save the text content to a TXT file\n",
    "        with open(output_path, 'w') as f:\n",
    "            f.write(text_content)"
   ]
  },
  {
   "cell_type": "code",
   "execution_count": null,
   "id": "48bc6dc4",
   "metadata": {},
   "outputs": [],
   "source": []
  }
 ],
 "metadata": {
  "kernelspec": {
   "display_name": "Python 3 (ipykernel)",
   "language": "python",
   "name": "python3"
  },
  "language_info": {
   "codemirror_mode": {
    "name": "ipython",
    "version": 3
   },
   "file_extension": ".py",
   "mimetype": "text/x-python",
   "name": "python",
   "nbconvert_exporter": "python",
   "pygments_lexer": "ipython3",
   "version": "3.11.3"
  }
 },
 "nbformat": 4,
 "nbformat_minor": 5
}
