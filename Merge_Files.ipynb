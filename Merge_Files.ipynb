{
 "cells": [
  {
   "cell_type": "markdown",
   "id": "0300dad8",
   "metadata": {},
   "source": [
    "# Merge text files "
   ]
  },
  {
   "cell_type": "markdown",
   "id": "0c232829",
   "metadata": {},
   "source": [
    "Merge text files such that each observation consists of the identification number and the text of the corresponding essay."
   ]
  },
  {
   "cell_type": "code",
   "execution_count": 10,
   "id": "c347feed",
   "metadata": {},
   "outputs": [],
   "source": [
    "import os\n",
    "import re"
   ]
  },
  {
   "cell_type": "code",
   "execution_count": 97,
   "id": "98e50e93",
   "metadata": {},
   "outputs": [],
   "source": [
    "# Specify the directory path where your individual essay files are located\n",
    "directory = 'txt'\n",
    "\n",
    "# Specify the output file path where you want to save the merged essays\n",
    "output_file = 'essays_cleaned.txt'\n",
    "\n",
    "# Regular expression pattern for extracting the identification number\n",
    "pattern = r'N[12]\\w+'\n",
    "\n",
    "# Regular expression patterns to match and remove the unwanted sections\n",
    "heading_pattern = r'NCDS8 Essay by N[12]\\w+'\n",
    "sequence_pattern = r'q-q-[a-f0-9-]+ q-q-[a-f0-9-]+ q-[a-f0-9-]+'\n",
    "ending_pattern = r'National Child Development Study: Sweep \\d+, \\d+-\\d+'"
   ]
  },
  {
   "cell_type": "code",
   "execution_count": 98,
   "id": "75f232f1",
   "metadata": {},
   "outputs": [],
   "source": [
    "# Iterate over each essay file in the directory\n",
    "merged_content = ''\n",
    "for filename in os.listdir(directory):\n",
    "    if filename.endswith('.txt'):\n",
    "        # Read the content of each essay file\n",
    "        file_path = os.path.join(directory, filename)\n",
    "        with open(file_path, 'r') as f:\n",
    "            essay_content = f.read().strip()\n",
    "            \n",
    "        # Extract the identification number from the filename using regular expressions\n",
    "        match = re.search(pattern, essay_content)\n",
    "        observation_id = match.group() if match else \"N/A\"\n",
    "        \n",
    "        # Remove the unwanted sections from the essay content using regular expressions\n",
    "        essay_content = re.sub(heading_pattern, '', essay_content)\n",
    "        essay_content = re.sub(sequence_pattern, '', essay_content)\n",
    "        essay_content = re.sub(ending_pattern, '', essay_content)\n",
    "        \n",
    "        # Strip any leading or trailing whitespace\n",
    "        essay_content = essay_content.strip() \n",
    "\n",
    "        # Append the observation ID and essay content to the merged content\n",
    "        merged_content += f'Observation ID: {observation_id}\\n{essay_content}\\n\\n'"
   ]
  },
  {
   "cell_type": "code",
   "execution_count": 99,
   "id": "26d02c83",
   "metadata": {},
   "outputs": [],
   "source": [
    "# Save the merged content to the output file\n",
    "with open(output_file, 'w') as f:\n",
    "    f.write(merged_content)"
   ]
  }
 ],
 "metadata": {
  "kernelspec": {
   "display_name": "Python 3 (ipykernel)",
   "language": "python",
   "name": "python3"
  },
  "language_info": {
   "codemirror_mode": {
    "name": "ipython",
    "version": 3
   },
   "file_extension": ".py",
   "mimetype": "text/x-python",
   "name": "python",
   "nbconvert_exporter": "python",
   "pygments_lexer": "ipython3",
   "version": "3.11.3"
  }
 },
 "nbformat": 4,
 "nbformat_minor": 5
}
