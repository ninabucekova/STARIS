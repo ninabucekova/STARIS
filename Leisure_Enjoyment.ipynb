{
 "cells": [
  {
   "cell_type": "markdown",
   "id": "4c989781",
   "metadata": {},
   "source": [
    "## Calculate Leisure Enjoyment Index\n",
    "\n",
    "Here we calculate the final indicator - Leisure Enjoyment Index (LE), which will be included in econometric models presented in the paper. The LE will be a linear combination of personality traits each with optimally chosen weight. To calculate the optimal weights, we treat it as a least-squares optimization problem with two constraints:\n",
    "(1) the weights must be non-negative, and (2) they must sum up to 1."
   ]
  },
  {
   "cell_type": "code",
   "execution_count": 168,
   "id": "c6463faa",
   "metadata": {},
   "outputs": [],
   "source": [
    "import numpy as np\n",
    "import pandas as pd\n",
    "import scipy\n",
    "\n",
    "import scipy.optimize as opt\n",
    "from scipy.optimize import minimize\n",
    "from sklearn.impute import SimpleImputer\n",
    "from sklearn.model_selection import train_test_split\n",
    "from sklearn.metrics import mean_squared_error\n",
    "\n",
    "from sklearn.model_selection import cross_val_score\n",
    "from sklearn.model_selection import KFold\n",
    "from sklearn import linear_model\n",
    "from sklearn.linear_model import LinearRegression"
   ]
  },
  {
   "cell_type": "code",
   "execution_count": 5,
   "id": "6f109df1",
   "metadata": {},
   "outputs": [],
   "source": [
    "# Read data\n",
    "main = pd.read_csv('main_demo.csv')"
   ]
  },
  {
   "cell_type": "markdown",
   "id": "a4d967e7",
   "metadata": {},
   "source": [
    "### Filter and preprocess the data \n",
    "\n",
    "Here we filter the main dataset which contains variables related to leisure engagement. We use only personality traits as input variables and create from them a matrix 'X'. Similarly, we create the output vector 'y' which contains the value of the Leisure Index for each observation."
   ]
  },
  {
   "cell_type": "code",
   "execution_count": 129,
   "id": "0734d157",
   "metadata": {},
   "outputs": [],
   "source": [
    "# Filter personality traits and outcome variable\n",
    "X = main[['ND8EXT', 'ND8AGR', 'ND8CON', 'ND8EMO', 'ND8INT']].values\n",
    "y = main['LeisureIndex'].values"
   ]
  },
  {
   "cell_type": "code",
   "execution_count": 130,
   "id": "a993f41e",
   "metadata": {},
   "outputs": [],
   "source": [
    "# Impute missing values\n",
    "# Create an instance of the SimpleImputer\n",
    "imputer = SimpleImputer(strategy='mean')\n",
    "y = y.reshape(-1, 1)\n",
    "\n",
    "# Impute missing values in your input data\n",
    "X_imputed = imputer.fit_transform(X)\n",
    "y_imputed = imputer.fit_transform(y)"
   ]
  },
  {
   "cell_type": "code",
   "execution_count": 131,
   "id": "05a23cfd",
   "metadata": {},
   "outputs": [],
   "source": [
    "# Normalized X and y\n",
    "norm_X = (X_imputed - 5) / 45\n",
    "norm_y = (y_imputed - 1) / 5"
   ]
  },
  {
   "cell_type": "markdown",
   "id": "6c2129c4",
   "metadata": {},
   "source": [
    "## Solve the Optimization Problem\n",
    "\n",
    "### 1. Scipy's nnls()\n",
    "\n",
    "Since this is a prediction problem and we want to obtain weights which capture the true relationship between personality traits and leisure engagement, we will need to perform cross-validation to get generalizable results. From some initial analysis, it seems that the coefficients are sensitive to the data which further increases the need for cross-validation."
   ]
  },
  {
   "cell_type": "code",
   "execution_count": 182,
   "id": "7197485c",
   "metadata": {},
   "outputs": [
    {
     "name": "stdout",
     "output_type": "stream",
     "text": [
      "Mean squared error: 0.22692153658812378\n",
      "0.09819938\n"
     ]
    }
   ],
   "source": [
    "# Assuming X and y are your feature matrix and target variable, respectively\n",
    "\n",
    "# Split the data into training and test sets\n",
    "X_train, X_test, y_train, y_test = train_test_split(X_imputed, y_imputed, test_size=0.2, random_state=42)\n",
    "\n",
    "# Perform cross-validation\n",
    "fold_scores = []\n",
    "for _ in range(5):\n",
    "    # Split the training set into training and validation sets\n",
    "    X_train_fold, X_val_fold, y_train_fold, y_val_fold = train_test_split(\n",
    "        X_train, y_train, test_size=0.2, random_state=61)\n",
    "\n",
    "    # Train the model using nnls on the training fold\n",
    "    coefficients, _ = scipy.optimize.nnls(X_train_fold, np.squeeze(y_train_fold))\n",
    "\n",
    "    # Predict the target variable for the validation fold\n",
    "    y_pred_val_fold = np.dot(X_val_fold, coefficients)\n",
    "\n",
    "    # Calculate the performance metric for the validation fold\n",
    "    fold_score = mean_squared_error(y_val_fold, y_pred_val_fold)\n",
    "    fold_scores.append(fold_score)\n",
    "\n",
    "# Calculate the average performance across the folds\n",
    "mean_score = np.mean(fold_scores)\n",
    "\n",
    "# Print the mean performance\n",
    "print(\"Mean squared error:\", mean_score)\n",
    "\n",
    "coefs_nnls = [0, 0.01260824, 0, 0.03263554, 0.0529556]\n",
    "print(np.sum(coefs_nnls))"
   ]
  },
  {
   "cell_type": "markdown",
   "id": "db8d6e59",
   "metadata": {},
   "source": [
    "### 2. Linear Regression using Scikit-learn"
   ]
  },
  {
   "cell_type": "code",
   "execution_count": 173,
   "id": "2d889960",
   "metadata": {},
   "outputs": [
    {
     "name": "stdout",
     "output_type": "stream",
     "text": [
      "Mean R^2 score: 0.3980397938171841\n",
      "[[0.         0.01088561 0.         0.0324213  0.05334985]]\n",
      "0.09665675238553065\n"
     ]
    }
   ],
   "source": [
    "# Create a linear regression model\n",
    "\n",
    "model = linear_model.LinearRegression(positive=True)\n",
    "model.fit(X_imputed, y_imputed)\n",
    "\n",
    "# Define the cross-validation method (e.g., 5-fold cross-validation)\n",
    "kfold = KFold(n_splits=5, shuffle=True, random_state=42)\n",
    "\n",
    "# Perform cross-validation and calculate the mean performance\n",
    "scores = cross_val_score(model, X_imputed, y_imputed, cv=kfold, scoring='r2')\n",
    "mean_score = scores.mean()\n",
    "\n",
    "# Print the mean performance\n",
    "print(\"Mean R^2 score:\", mean_score)\n",
    "coefs = model.coef_\n",
    "\n",
    "print(coefs)\n",
    "print(np.sum(coefs))"
   ]
  },
  {
   "cell_type": "markdown",
   "id": "8ec0d5b8",
   "metadata": {},
   "source": [
    "### 3. Ridge Regression using scikit-learn"
   ]
  },
  {
   "cell_type": "code",
   "execution_count": 177,
   "id": "73e884fd",
   "metadata": {},
   "outputs": [
    {
     "name": "stdout",
     "output_type": "stream",
     "text": [
      "Mean R^2 score: 0.39803977176459093\n",
      "[[0.         0.01088455 0.         0.03242437 0.05334881]]\n",
      "0.09665772813504822\n"
     ]
    }
   ],
   "source": [
    "# Create a linear regression model\n",
    "from sklearn.linear_model import Ridge\n",
    "\n",
    "model_ridge = linear_model.Ridge(positive=True, alpha=.1)\n",
    "model_ridge.fit(X_imputed, y_imputed)\n",
    "\n",
    "# Define the cross-validation method (e.g., 5-fold cross-validation)\n",
    "kfold_ridge = KFold(n_splits=5, shuffle=True, random_state=42)\n",
    "\n",
    "# Perform cross-validation and calculate the mean performance\n",
    "scores_ridge = cross_val_score(model_ridge, X_imputed, y_imputed, cv=kfold_ridge, scoring='r2')\n",
    "mean_score_ridge = scores_ridge.mean()\n",
    "\n",
    "# Print the mean performance\n",
    "print(\"Mean R^2 score:\", mean_score_ridge)\n",
    "coefs_ridge = model_ridge.coef_\n",
    "\n",
    "print(coefs_ridge)\n",
    "print(np.sum(coefs_ridge))"
   ]
  },
  {
   "cell_type": "code",
   "execution_count": null,
   "id": "77444e07",
   "metadata": {},
   "outputs": [],
   "source": [
    "# Mean of the coefficients produced\n"
   ]
  },
  {
   "cell_type": "code",
   "execution_count": 113,
   "id": "f2a247e6",
   "metadata": {},
   "outputs": [
    {
     "name": "stdout",
     "output_type": "stream",
     "text": [
      "[0.         0.12122375 0.         0.33222064 0.54655561]\n",
      "1.0\n"
     ]
    }
   ],
   "source": [
    "norm_coeffs = optimized_coefficients / np.sum(optimized_coefficients)\n",
    "print(norm_coeffs)\n",
    "print(np.sum(norm_coeffs))"
   ]
  }
 ],
 "metadata": {
  "kernelspec": {
   "display_name": "Python 3 (ipykernel)",
   "language": "python",
   "name": "python3"
  },
  "language_info": {
   "codemirror_mode": {
    "name": "ipython",
    "version": 3
   },
   "file_extension": ".py",
   "mimetype": "text/x-python",
   "name": "python",
   "nbconvert_exporter": "python",
   "pygments_lexer": "ipython3",
   "version": "3.11.3"
  }
 },
 "nbformat": 4,
 "nbformat_minor": 5
}
