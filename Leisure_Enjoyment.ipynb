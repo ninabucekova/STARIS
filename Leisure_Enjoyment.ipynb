{
 "cells": [
  {
   "cell_type": "markdown",
   "id": "bbd59f2b",
   "metadata": {},
   "source": [
    "## Calculate Leisure Enjoyment Index\n",
    "\n",
    "Here we calculate the final indicator - Leisure Enjoyment Index (LE), which will be included in econometric models presented in the paper. The LE will be a linear combination of personality traits each with optimally chosen weight. To calculate the optimal weights, we treat it as a least-squares optimization problem with two constraints:\n",
    "(1) the weights must be non-negative, and (2) they must sum up to 1."
   ]
  },
  {
   "cell_type": "code",
   "execution_count": 168,
   "id": "9da01a40",
   "metadata": {},
   "outputs": [],
   "source": [
    "import numpy as np\n",
    "import pandas as pd\n",
    "import scipy\n",
    "\n",
    "import scipy.optimize as opt\n",
    "from scipy.optimize import minimize\n",
    "from sklearn.impute import SimpleImputer\n",
    "from sklearn.model_selection import train_test_split\n",
    "from sklearn.metrics import mean_squared_error\n",
    "\n",
    "from sklearn.model_selection import cross_val_score\n",
    "from sklearn.model_selection import KFold\n",
    "from sklearn import linear_model\n",
    "from sklearn.linear_model import LinearRegression"
   ]
  },
  {
   "cell_type": "code",
   "execution_count": 5,
   "id": "2c72c0ec",
   "metadata": {},
   "outputs": [],
   "source": [
    "# Read data\n",
    "main = pd.read_csv('main_demo.csv')"
   ]
  },
  {
   "cell_type": "markdown",
   "id": "a618c0b6",
   "metadata": {},
   "source": [
    "### Filter and preprocess the data \n",
    "\n",
    "Here we filter the main dataset which contains variables related to leisure engagement. We use only personality traits as input variables and create from them a matrix 'X'. Similarly, we create the output vector 'y' which contains the value of the Leisure Index for each observation."
   ]
  },
  {
   "cell_type": "code",
   "execution_count": 129,
   "id": "6be26c0f",
   "metadata": {},
   "outputs": [],
   "source": [
    "# Filter personality traits and outcome variable\n",
    "X = main[['ND8EXT', 'ND8AGR', 'ND8CON', 'ND8EMO', 'ND8INT']].values\n",
    "y = main['LeisureIndex'].values"
   ]
  },
  {
   "cell_type": "code",
   "execution_count": 130,
   "id": "0b034146",
   "metadata": {},
   "outputs": [],
   "source": [
    "# Impute missing values\n",
    "# Create an instance of the SimpleImputer\n",
    "imputer = SimpleImputer(strategy='mean')\n",
    "y = y.reshape(-1, 1)\n",
    "\n",
    "# Impute missing values in your input data\n",
    "X_imputed = imputer.fit_transform(X)\n",
    "y_imputed = imputer.fit_transform(y)"
   ]
  },
  {
   "cell_type": "code",
   "execution_count": 199,
   "id": "024748d3",
   "metadata": {},
   "outputs": [
    {
     "data": {
      "text/plain": [
       "0.8888888888888888"
      ]
     },
     "execution_count": 199,
     "metadata": {},
     "output_type": "execute_result"
    }
   ],
   "source": [
    "# Normalized X and y\n",
    "norm_X = (X_imputed - 5) / 45\n",
    "norm_y = (y_imputed - 1) / 5\n",
    "np.max(norm_X)"
   ]
  },
  {
   "cell_type": "markdown",
   "id": "c5c78b98",
   "metadata": {},
   "source": [
    "## Solve the Optimization Problem\n",
    "\n",
    "### 1. Scipy's nnls()\n",
    "\n",
    "Since this is a prediction problem and we want to obtain weights which capture the true relationship between personality traits and leisure engagement, we will need to perform cross-validation to get generalizable results. From some initial analysis, it seems that the coefficients are sensitive to the data which further increases the need for cross-validation."
   ]
  },
  {
   "cell_type": "code",
   "execution_count": 188,
   "id": "59e62964",
   "metadata": {},
   "outputs": [
    {
     "name": "stdout",
     "output_type": "stream",
     "text": [
      "Mean squared error: 0.22692153658812378\n",
      "0.09819938\n"
     ]
    },
    {
     "data": {
      "text/plain": [
       "numpy.ndarray"
      ]
     },
     "execution_count": 188,
     "metadata": {},
     "output_type": "execute_result"
    }
   ],
   "source": [
    "# Assuming X and y are your feature matrix and target variable, respectively\n",
    "\n",
    "# Split the data into training and test sets\n",
    "X_train, X_test, y_train, y_test = train_test_split(X_imputed, y_imputed, test_size=0.2, random_state=42)\n",
    "\n",
    "# Perform cross-validation\n",
    "fold_scores = []\n",
    "for _ in range(5):\n",
    "    # Split the training set into training and validation sets\n",
    "    X_train_fold, X_val_fold, y_train_fold, y_val_fold = train_test_split(\n",
    "        X_train, y_train, test_size=0.2, random_state=61)\n",
    "\n",
    "    # Train the model using nnls on the training fold\n",
    "    coefficients, _ = scipy.optimize.nnls(X_train_fold, np.squeeze(y_train_fold))\n",
    "\n",
    "    # Predict the target variable for the validation fold\n",
    "    y_pred_val_fold = np.dot(X_val_fold, coefficients)\n",
    "\n",
    "    # Calculate the performance metric for the validation fold\n",
    "    fold_score = mean_squared_error(y_val_fold, y_pred_val_fold)\n",
    "    fold_scores.append(fold_score)\n",
    "\n",
    "# Calculate the average performance across the folds\n",
    "mean_score = np.mean(fold_scores)\n",
    "\n",
    "# Print the mean performance\n",
    "print(\"Mean squared error:\", mean_score)\n",
    "\n",
    "coefs_nnls = np.asarray([0, 0.01260824, 0, 0.03263554, 0.0529556])\n",
    "print(np.sum(coefs_nnls))\n",
    "type(coefs_nnls)"
   ]
  },
  {
   "cell_type": "markdown",
   "id": "5b764b7e",
   "metadata": {},
   "source": [
    "### 2. Linear Regression using Scikit-learn"
   ]
  },
  {
   "cell_type": "code",
   "execution_count": 183,
   "id": "ac7c5c4f",
   "metadata": {},
   "outputs": [
    {
     "name": "stdout",
     "output_type": "stream",
     "text": [
      "Mean R^2 score: 0.3980397938171841\n",
      "[[0.         0.01088561 0.         0.0324213  0.05334985]]\n",
      "0.09665675238553065\n"
     ]
    },
    {
     "data": {
      "text/plain": [
       "numpy.ndarray"
      ]
     },
     "execution_count": 183,
     "metadata": {},
     "output_type": "execute_result"
    }
   ],
   "source": [
    "# Create a linear regression model\n",
    "\n",
    "model = linear_model.LinearRegression(positive=True)\n",
    "model.fit(X_imputed, y_imputed)\n",
    "\n",
    "# Define the cross-validation method (e.g., 5-fold cross-validation)\n",
    "kfold = KFold(n_splits=5, shuffle=True, random_state=42)\n",
    "\n",
    "# Perform cross-validation and calculate the mean performance\n",
    "scores = cross_val_score(model, X_imputed, y_imputed, cv=kfold, scoring='r2')\n",
    "mean_score = scores.mean()\n",
    "\n",
    "# Print the mean performance\n",
    "print(\"Mean R^2 score:\", mean_score)\n",
    "coefs = model.coef_\n",
    "\n",
    "print(coefs)\n",
    "print(np.sum(coefs))\n",
    "type(coefs)"
   ]
  },
  {
   "cell_type": "markdown",
   "id": "ba203662",
   "metadata": {},
   "source": [
    "### 3. Ridge Regression using scikit-learn"
   ]
  },
  {
   "cell_type": "code",
   "execution_count": 177,
   "id": "fb753bad",
   "metadata": {},
   "outputs": [
    {
     "name": "stdout",
     "output_type": "stream",
     "text": [
      "Mean R^2 score: 0.39803977176459093\n",
      "[[0.         0.01088455 0.         0.03242437 0.05334881]]\n",
      "0.09665772813504822\n"
     ]
    }
   ],
   "source": [
    "# Create a linear regression model\n",
    "from sklearn.linear_model import Ridge\n",
    "\n",
    "model_ridge = linear_model.Ridge(positive=True, alpha=.1)\n",
    "model_ridge.fit(X_imputed, y_imputed)\n",
    "\n",
    "# Define the cross-validation method (e.g., 5-fold cross-validation)\n",
    "kfold_ridge = KFold(n_splits=5, shuffle=True, random_state=42)\n",
    "\n",
    "# Perform cross-validation and calculate the mean performance\n",
    "scores_ridge = cross_val_score(model_ridge, X_imputed, y_imputed, cv=kfold_ridge, scoring='r2')\n",
    "mean_score_ridge = scores_ridge.mean()\n",
    "\n",
    "# Print the mean performance\n",
    "print(\"Mean R^2 score:\", mean_score_ridge)\n",
    "coefs_ridge = model_ridge.coef_\n",
    "\n",
    "print(coefs_ridge)\n",
    "print(np.sum(coefs_ridge))\n"
   ]
  },
  {
   "cell_type": "code",
   "execution_count": 190,
   "id": "10b20a20",
   "metadata": {},
   "outputs": [
    {
     "name": "stdout",
     "output_type": "stream",
     "text": [
      "[[0.         0.01145947 0.         0.03249374 0.05321809]]\n"
     ]
    }
   ],
   "source": [
    "# Mean of the coefficients produced\n",
    "mean_coefs = (coefs_nnls + coefs + coefs_ridge) / 3\n",
    "print(mean_coefs)"
   ]
  },
  {
   "cell_type": "code",
   "execution_count": 193,
   "id": "0704068e",
   "metadata": {},
   "outputs": [
    {
     "name": "stdout",
     "output_type": "stream",
     "text": [
      "[[0.         0.11793057 0.         0.33439647 0.54767295]]\n",
      "1.0\n"
     ]
    },
    {
     "data": {
      "text/plain": [
       "(1, 5)"
      ]
     },
     "execution_count": 193,
     "metadata": {},
     "output_type": "execute_result"
    }
   ],
   "source": [
    "weights = mean_coefs / np.sum(mean_coefs)\n",
    "print(weights)\n",
    "print(np.sum(weights))\n",
    "weights.shape"
   ]
  },
  {
   "cell_type": "markdown",
   "id": "bb3af3a4",
   "metadata": {},
   "source": [
    "### Calculate the final Leisure Enjoyment Index \n",
    "\n",
    "After we obtained and normalized the weights, we can calculate the Leisure Enjoyment Index as the dot product of the matrix norm_X (normalized values of personality traits) and the weight vector."
   ]
  },
  {
   "cell_type": "code",
   "execution_count": 200,
   "id": "47b92552",
   "metadata": {},
   "outputs": [],
   "source": [
    "# Finally calculate the Leisure Enjoyment Index\n",
    "main['LeisureEnjoy'] = np.dot(norm_X, np.transpose(weights))"
   ]
  },
  {
   "cell_type": "code",
   "execution_count": 201,
   "id": "45f41e31",
   "metadata": {},
   "outputs": [
    {
     "data": {
      "text/html": [
       "<div>\n",
       "<style scoped>\n",
       "    .dataframe tbody tr th:only-of-type {\n",
       "        vertical-align: middle;\n",
       "    }\n",
       "\n",
       "    .dataframe tbody tr th {\n",
       "        vertical-align: top;\n",
       "    }\n",
       "\n",
       "    .dataframe thead th {\n",
       "        text-align: right;\n",
       "    }\n",
       "</style>\n",
       "<table border=\"1\" class=\"dataframe\">\n",
       "  <thead>\n",
       "    <tr style=\"text-align: right;\">\n",
       "      <th></th>\n",
       "      <th>NCDSID</th>\n",
       "      <th>Essay Text</th>\n",
       "      <th>Preprocessed Text</th>\n",
       "      <th>ND8EXT</th>\n",
       "      <th>ND8AGR</th>\n",
       "      <th>ND8CON</th>\n",
       "      <th>ND8EMO</th>\n",
       "      <th>ND8INT</th>\n",
       "      <th>ND8WEMWB</th>\n",
       "      <th>ND8PHHE</th>\n",
       "      <th>...</th>\n",
       "      <th>Sentiment Continuous</th>\n",
       "      <th>anger</th>\n",
       "      <th>disgust</th>\n",
       "      <th>fear</th>\n",
       "      <th>joy</th>\n",
       "      <th>neutral</th>\n",
       "      <th>sadness</th>\n",
       "      <th>surprise</th>\n",
       "      <th>Sentiment</th>\n",
       "      <th>LeisureEnjoy</th>\n",
       "    </tr>\n",
       "  </thead>\n",
       "  <tbody>\n",
       "    <tr>\n",
       "      <th>0</th>\n",
       "      <td>N28280Y</td>\n",
       "      <td>I am happily married, we are grand-parents. Ou...</td>\n",
       "      <td>['happily', 'married', 'grandparent', 'two', '...</td>\n",
       "      <td>44.0</td>\n",
       "      <td>45.0</td>\n",
       "      <td>41.0</td>\n",
       "      <td>26.0</td>\n",
       "      <td>37.0</td>\n",
       "      <td>58.0</td>\n",
       "      <td>95.0</td>\n",
       "      <td>...</td>\n",
       "      <td>0.9542</td>\n",
       "      <td>0.001291</td>\n",
       "      <td>0.000894</td>\n",
       "      <td>0.000268</td>\n",
       "      <td>0.982044</td>\n",
       "      <td>0.004638</td>\n",
       "      <td>0.007959</td>\n",
       "      <td>0.002906</td>\n",
       "      <td>1</td>\n",
       "      <td>0.650335</td>\n",
       "    </tr>\n",
       "    <tr>\n",
       "      <th>1</th>\n",
       "      <td>N13960Q</td>\n",
       "      <td>I am retired, not living in London, probably i...</td>\n",
       "      <td>['retired', 'living', 'london', 'probably', 'n...</td>\n",
       "      <td>26.0</td>\n",
       "      <td>25.0</td>\n",
       "      <td>25.0</td>\n",
       "      <td>23.0</td>\n",
       "      <td>32.0</td>\n",
       "      <td>40.0</td>\n",
       "      <td>90.0</td>\n",
       "      <td>...</td>\n",
       "      <td>-0.7001</td>\n",
       "      <td>0.004131</td>\n",
       "      <td>0.001903</td>\n",
       "      <td>0.004476</td>\n",
       "      <td>0.009218</td>\n",
       "      <td>0.007038</td>\n",
       "      <td>0.972608</td>\n",
       "      <td>0.000626</td>\n",
       "      <td>0</td>\n",
       "      <td>0.514776</td>\n",
       "    </tr>\n",
       "    <tr>\n",
       "      <th>2</th>\n",
       "      <td>N23786Z</td>\n",
       "      <td>I imagine I'll still be teaching french at Pri...</td>\n",
       "      <td>['imagine', 'ill', 'still', 'teaching', 'frenc...</td>\n",
       "      <td>36.0</td>\n",
       "      <td>44.0</td>\n",
       "      <td>42.0</td>\n",
       "      <td>30.0</td>\n",
       "      <td>32.0</td>\n",
       "      <td>59.0</td>\n",
       "      <td>85.0</td>\n",
       "      <td>...</td>\n",
       "      <td>0.7345</td>\n",
       "      <td>0.024202</td>\n",
       "      <td>0.011763</td>\n",
       "      <td>0.140934</td>\n",
       "      <td>0.312525</td>\n",
       "      <td>0.410469</td>\n",
       "      <td>0.064782</td>\n",
       "      <td>0.035325</td>\n",
       "      <td>0</td>\n",
       "      <td>0.616586</td>\n",
       "    </tr>\n",
       "    <tr>\n",
       "      <th>3</th>\n",
       "      <td>N17606R</td>\n",
       "      <td>I am retired from work. I enjoy leisurely time...</td>\n",
       "      <td>['retired', 'work', 'enjoy', 'leisurely', 'tim...</td>\n",
       "      <td>22.0</td>\n",
       "      <td>41.0</td>\n",
       "      <td>29.0</td>\n",
       "      <td>38.0</td>\n",
       "      <td>26.0</td>\n",
       "      <td>54.0</td>\n",
       "      <td>100.0</td>\n",
       "      <td>...</td>\n",
       "      <td>0.9432</td>\n",
       "      <td>0.001595</td>\n",
       "      <td>0.001737</td>\n",
       "      <td>0.000340</td>\n",
       "      <td>0.974898</td>\n",
       "      <td>0.003598</td>\n",
       "      <td>0.016691</td>\n",
       "      <td>0.001141</td>\n",
       "      <td>1</td>\n",
       "      <td>0.595149</td>\n",
       "    </tr>\n",
       "    <tr>\n",
       "      <th>4</th>\n",
       "      <td>N19466F</td>\n",
       "      <td>Retired and moved further away from London, Su...</td>\n",
       "      <td>['retired', 'moved', 'away', 'london', 'sussex...</td>\n",
       "      <td>31.0</td>\n",
       "      <td>40.0</td>\n",
       "      <td>32.0</td>\n",
       "      <td>30.0</td>\n",
       "      <td>34.0</td>\n",
       "      <td>51.0</td>\n",
       "      <td>85.0</td>\n",
       "      <td>...</td>\n",
       "      <td>-0.7615</td>\n",
       "      <td>0.001112</td>\n",
       "      <td>0.001434</td>\n",
       "      <td>0.001872</td>\n",
       "      <td>0.014851</td>\n",
       "      <td>0.005902</td>\n",
       "      <td>0.973415</td>\n",
       "      <td>0.001414</td>\n",
       "      <td>0</td>\n",
       "      <td>0.630444</td>\n",
       "    </tr>\n",
       "  </tbody>\n",
       "</table>\n",
       "<p>5 rows × 40 columns</p>\n",
       "</div>"
      ],
      "text/plain": [
       "    NCDSID                                         Essay Text  \\\n",
       "0  N28280Y  I am happily married, we are grand-parents. Ou...   \n",
       "1  N13960Q  I am retired, not living in London, probably i...   \n",
       "2  N23786Z  I imagine I'll still be teaching french at Pri...   \n",
       "3  N17606R  I am retired from work. I enjoy leisurely time...   \n",
       "4  N19466F  Retired and moved further away from London, Su...   \n",
       "\n",
       "                                   Preprocessed Text  ND8EXT  ND8AGR  ND8CON  \\\n",
       "0  ['happily', 'married', 'grandparent', 'two', '...    44.0    45.0    41.0   \n",
       "1  ['retired', 'living', 'london', 'probably', 'n...    26.0    25.0    25.0   \n",
       "2  ['imagine', 'ill', 'still', 'teaching', 'frenc...    36.0    44.0    42.0   \n",
       "3  ['retired', 'work', 'enjoy', 'leisurely', 'tim...    22.0    41.0    29.0   \n",
       "4  ['retired', 'moved', 'away', 'london', 'sussex...    31.0    40.0    32.0   \n",
       "\n",
       "   ND8EMO  ND8INT  ND8WEMWB  ND8PHHE  ...  Sentiment Continuous     anger  \\\n",
       "0    26.0    37.0      58.0     95.0  ...                0.9542  0.001291   \n",
       "1    23.0    32.0      40.0     90.0  ...               -0.7001  0.004131   \n",
       "2    30.0    32.0      59.0     85.0  ...                0.7345  0.024202   \n",
       "3    38.0    26.0      54.0    100.0  ...                0.9432  0.001595   \n",
       "4    30.0    34.0      51.0     85.0  ...               -0.7615  0.001112   \n",
       "\n",
       "    disgust      fear       joy   neutral   sadness  surprise  Sentiment  \\\n",
       "0  0.000894  0.000268  0.982044  0.004638  0.007959  0.002906          1   \n",
       "1  0.001903  0.004476  0.009218  0.007038  0.972608  0.000626          0   \n",
       "2  0.011763  0.140934  0.312525  0.410469  0.064782  0.035325          0   \n",
       "3  0.001737  0.000340  0.974898  0.003598  0.016691  0.001141          1   \n",
       "4  0.001434  0.001872  0.014851  0.005902  0.973415  0.001414          0   \n",
       "\n",
       "   LeisureEnjoy  \n",
       "0      0.650335  \n",
       "1      0.514776  \n",
       "2      0.616586  \n",
       "3      0.595149  \n",
       "4      0.630444  \n",
       "\n",
       "[5 rows x 40 columns]"
      ]
     },
     "execution_count": 201,
     "metadata": {},
     "output_type": "execute_result"
    }
   ],
   "source": [
    "main.head()"
   ]
  },
  {
   "cell_type": "code",
   "execution_count": null,
   "id": "91e5f56f",
   "metadata": {},
   "outputs": [],
   "source": []
  }
 ],
 "metadata": {
  "kernelspec": {
   "display_name": "Python 3 (ipykernel)",
   "language": "python",
   "name": "python3"
  },
  "language_info": {
   "codemirror_mode": {
    "name": "ipython",
    "version": 3
   },
   "file_extension": ".py",
   "mimetype": "text/x-python",
   "name": "python",
   "nbconvert_exporter": "python",
   "pygments_lexer": "ipython3",
   "version": "3.11.3"
  }
 },
 "nbformat": 4,
 "nbformat_minor": 5
}
