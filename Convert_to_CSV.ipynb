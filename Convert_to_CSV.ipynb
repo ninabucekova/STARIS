{
 "cells": [
  {
   "cell_type": "markdown",
   "id": "3cd57de3",
   "metadata": {},
   "source": [
    "# Convert text file into csv\n",
    "\n",
    "Here we convert the cleaned text file with IDs and essays into a table in the CSV format."
   ]
  },
  {
   "cell_type": "code",
   "execution_count": 1,
   "id": "4dbb9e28",
   "metadata": {},
   "outputs": [],
   "source": [
    "import csv"
   ]
  },
  {
   "cell_type": "code",
   "execution_count": 2,
   "id": "dcaa24ce",
   "metadata": {},
   "outputs": [],
   "source": [
    "# Specify the path to your input text file\n",
    "input_file = 'essays_cleaned.txt'\n",
    "\n",
    "# Specify the path to the output CSV file\n",
    "output_file = 'sweep8_essays.csv'\n",
    "\n",
    "# Read the contents of the input file\n",
    "with open(input_file, 'r') as f:\n",
    "    content = f.read().split('\\n\\n')\n",
    "\n",
    "# Create a list to store the rows of the CSV data\n",
    "csv_data = [['ID', 'Essay Text']]"
   ]
  },
  {
   "cell_type": "code",
   "execution_count": 5,
   "id": "09c6bab6",
   "metadata": {},
   "outputs": [
    {
     "name": "stdout",
     "output_type": "stream",
     "text": [
      "CSV conversion completed successfully.\n"
     ]
    }
   ],
   "source": [
    "# Process each observation in the content\n",
    "for observation in content:\n",
    "    # Split the observation into lines\n",
    "    lines = observation.strip().split('\\n')\n",
    "\n",
    "    # Check if the observation has the expected structure\n",
    "    if len(lines) >= 2:\n",
    "        # Extract the identification number from the first line\n",
    "        identification_number = lines[0].split(': ')[1]\n",
    "\n",
    "        # Extract the essay text from the remaining lines\n",
    "        essay_text = ' '.join(lines[1:])\n",
    "\n",
    "        # Append a new row to the CSV data list\n",
    "        csv_data.append([identification_number, essay_text])\n",
    "\n",
    "# Write the CSV data to the output file\n",
    "with open(output_file, 'w', newline='') as f:\n",
    "    writer = csv.writer(f)\n",
    "    writer.writerows(csv_data)\n",
    "\n",
    "print('CSV conversion completed successfully.')"
   ]
  }
 ],
 "metadata": {
  "kernelspec": {
   "display_name": "Python 3 (ipykernel)",
   "language": "python",
   "name": "python3"
  },
  "language_info": {
   "codemirror_mode": {
    "name": "ipython",
    "version": 3
   },
   "file_extension": ".py",
   "mimetype": "text/x-python",
   "name": "python",
   "nbconvert_exporter": "python",
   "pygments_lexer": "ipython3",
   "version": "3.11.3"
  }
 },
 "nbformat": 4,
 "nbformat_minor": 5
}
